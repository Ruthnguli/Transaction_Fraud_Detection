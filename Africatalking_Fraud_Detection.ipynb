{
  "cells": [
    {
      "cell_type": "code",
      "execution_count": 1,
      "metadata": {},
      "outputs": [],
      "source": [
        "# %pip install imbalanced-learn\n",
        "# %pip install xgboost\n",
        "# %pip install lightgbm"
      ]
    },
    {
      "cell_type": "code",
      "execution_count": 1,
      "metadata": {
        "id": "MgoMbF1KFAM6"
      },
      "outputs": [],
      "source": [
        "# Importing all the necessary libraries\n",
        "import pandas as pd\n",
        "import numpy as np\n",
        "import seaborn as sns\n",
        "import matplotlib.pyplot as plt\n",
        "from sklearn.ensemble import RandomForestClassifier\n",
        "from sklearn.model_selection import train_test_split\n",
        "from sklearn.preprocessing import LabelEncoder, StandardScaler\n",
        "from imblearn.over_sampling import SMOTE\n",
        "from xgboost import XGBClassifier\n",
        "from lightgbm import LGBMClassifier\n",
        "from sklearn.linear_model import LogisticRegression\n",
        "from sklearn.metrics import classification_report, roc_auc_score\n",
        "from sklearn.ensemble import IsolationForest\n",
        "from tensorflow.keras.models import Sequential\n",
        "from tensorflow.keras.layers import Dense\n",
        "from xgboost import XGBClassifier\n",
        "from sklearn.model_selection import RandomizedSearchCV\n",
        "from sklearn.model_selection import StratifiedKFold, cross_val_score"
      ]
    },
    {
      "cell_type": "markdown",
      "metadata": {
        "id": "OAr3IRDYGz9r"
      },
      "source": [
        "# Loading and Understanding The data"
      ]
    },
    {
      "cell_type": "code",
      "execution_count": 2,
      "metadata": {
        "colab": {
          "base_uri": "https://localhost:8080/"
        },
        "id": "xbNtnh41F3zd",
        "outputId": "61746c35-6dbf-40fb-954c-c79b06e24f23"
      },
      "outputs": [
        {
          "data": {
            "application/vnd.microsoft.datawrangler.viewer.v0+json": {
              "columns": [
                {
                  "name": "index",
                  "rawType": "int64",
                  "type": "integer"
                },
                {
                  "name": "step",
                  "rawType": "int64",
                  "type": "integer"
                },
                {
                  "name": "type",
                  "rawType": "object",
                  "type": "string"
                },
                {
                  "name": "amount",
                  "rawType": "float64",
                  "type": "float"
                },
                {
                  "name": "nameOrig",
                  "rawType": "object",
                  "type": "string"
                },
                {
                  "name": "oldbalanceOrg",
                  "rawType": "float64",
                  "type": "float"
                },
                {
                  "name": "newbalanceOrig",
                  "rawType": "float64",
                  "type": "float"
                },
                {
                  "name": "nameDest",
                  "rawType": "object",
                  "type": "string"
                },
                {
                  "name": "oldbalanceDest",
                  "rawType": "float64",
                  "type": "float"
                },
                {
                  "name": "newbalanceDest",
                  "rawType": "float64",
                  "type": "float"
                },
                {
                  "name": "isFraud",
                  "rawType": "int64",
                  "type": "integer"
                },
                {
                  "name": "isFlaggedFraud",
                  "rawType": "int64",
                  "type": "integer"
                }
              ],
              "conversionMethod": "pd.DataFrame",
              "ref": "79560bd7-5f53-442e-8dd8-d871c32b201e",
              "rows": [
                [
                  "0",
                  "1",
                  "PAYMENT",
                  "9839.64",
                  "C1231006815",
                  "170136.0",
                  "160296.36",
                  "M1979787155",
                  "0.0",
                  "0.0",
                  "0",
                  "0"
                ],
                [
                  "1",
                  "1",
                  "PAYMENT",
                  "1864.28",
                  "C1666544295",
                  "21249.0",
                  "19384.72",
                  "M2044282225",
                  "0.0",
                  "0.0",
                  "0",
                  "0"
                ],
                [
                  "2",
                  "1",
                  "TRANSFER",
                  "181.0",
                  "C1305486145",
                  "181.0",
                  "0.0",
                  "C553264065",
                  "0.0",
                  "0.0",
                  "1",
                  "0"
                ],
                [
                  "3",
                  "1",
                  "CASH_OUT",
                  "181.0",
                  "C840083671",
                  "181.0",
                  "0.0",
                  "C38997010",
                  "21182.0",
                  "0.0",
                  "1",
                  "0"
                ],
                [
                  "4",
                  "1",
                  "PAYMENT",
                  "11668.14",
                  "C2048537720",
                  "41554.0",
                  "29885.86",
                  "M1230701703",
                  "0.0",
                  "0.0",
                  "0",
                  "0"
                ]
              ],
              "shape": {
                "columns": 11,
                "rows": 5
              }
            },
            "text/html": [
              "<div>\n",
              "<style scoped>\n",
              "    .dataframe tbody tr th:only-of-type {\n",
              "        vertical-align: middle;\n",
              "    }\n",
              "\n",
              "    .dataframe tbody tr th {\n",
              "        vertical-align: top;\n",
              "    }\n",
              "\n",
              "    .dataframe thead th {\n",
              "        text-align: right;\n",
              "    }\n",
              "</style>\n",
              "<table border=\"1\" class=\"dataframe\">\n",
              "  <thead>\n",
              "    <tr style=\"text-align: right;\">\n",
              "      <th></th>\n",
              "      <th>step</th>\n",
              "      <th>type</th>\n",
              "      <th>amount</th>\n",
              "      <th>nameOrig</th>\n",
              "      <th>oldbalanceOrg</th>\n",
              "      <th>newbalanceOrig</th>\n",
              "      <th>nameDest</th>\n",
              "      <th>oldbalanceDest</th>\n",
              "      <th>newbalanceDest</th>\n",
              "      <th>isFraud</th>\n",
              "      <th>isFlaggedFraud</th>\n",
              "    </tr>\n",
              "  </thead>\n",
              "  <tbody>\n",
              "    <tr>\n",
              "      <th>0</th>\n",
              "      <td>1</td>\n",
              "      <td>PAYMENT</td>\n",
              "      <td>9839.64</td>\n",
              "      <td>C1231006815</td>\n",
              "      <td>170136.0</td>\n",
              "      <td>160296.36</td>\n",
              "      <td>M1979787155</td>\n",
              "      <td>0.0</td>\n",
              "      <td>0.0</td>\n",
              "      <td>0</td>\n",
              "      <td>0</td>\n",
              "    </tr>\n",
              "    <tr>\n",
              "      <th>1</th>\n",
              "      <td>1</td>\n",
              "      <td>PAYMENT</td>\n",
              "      <td>1864.28</td>\n",
              "      <td>C1666544295</td>\n",
              "      <td>21249.0</td>\n",
              "      <td>19384.72</td>\n",
              "      <td>M2044282225</td>\n",
              "      <td>0.0</td>\n",
              "      <td>0.0</td>\n",
              "      <td>0</td>\n",
              "      <td>0</td>\n",
              "    </tr>\n",
              "    <tr>\n",
              "      <th>2</th>\n",
              "      <td>1</td>\n",
              "      <td>TRANSFER</td>\n",
              "      <td>181.00</td>\n",
              "      <td>C1305486145</td>\n",
              "      <td>181.0</td>\n",
              "      <td>0.00</td>\n",
              "      <td>C553264065</td>\n",
              "      <td>0.0</td>\n",
              "      <td>0.0</td>\n",
              "      <td>1</td>\n",
              "      <td>0</td>\n",
              "    </tr>\n",
              "    <tr>\n",
              "      <th>3</th>\n",
              "      <td>1</td>\n",
              "      <td>CASH_OUT</td>\n",
              "      <td>181.00</td>\n",
              "      <td>C840083671</td>\n",
              "      <td>181.0</td>\n",
              "      <td>0.00</td>\n",
              "      <td>C38997010</td>\n",
              "      <td>21182.0</td>\n",
              "      <td>0.0</td>\n",
              "      <td>1</td>\n",
              "      <td>0</td>\n",
              "    </tr>\n",
              "    <tr>\n",
              "      <th>4</th>\n",
              "      <td>1</td>\n",
              "      <td>PAYMENT</td>\n",
              "      <td>11668.14</td>\n",
              "      <td>C2048537720</td>\n",
              "      <td>41554.0</td>\n",
              "      <td>29885.86</td>\n",
              "      <td>M1230701703</td>\n",
              "      <td>0.0</td>\n",
              "      <td>0.0</td>\n",
              "      <td>0</td>\n",
              "      <td>0</td>\n",
              "    </tr>\n",
              "  </tbody>\n",
              "</table>\n",
              "</div>"
            ],
            "text/plain": [
              "   step      type    amount     nameOrig  oldbalanceOrg  newbalanceOrig  \\\n",
              "0     1   PAYMENT   9839.64  C1231006815       170136.0       160296.36   \n",
              "1     1   PAYMENT   1864.28  C1666544295        21249.0        19384.72   \n",
              "2     1  TRANSFER    181.00  C1305486145          181.0            0.00   \n",
              "3     1  CASH_OUT    181.00   C840083671          181.0            0.00   \n",
              "4     1   PAYMENT  11668.14  C2048537720        41554.0        29885.86   \n",
              "\n",
              "      nameDest  oldbalanceDest  newbalanceDest  isFraud  isFlaggedFraud  \n",
              "0  M1979787155             0.0             0.0        0               0  \n",
              "1  M2044282225             0.0             0.0        0               0  \n",
              "2   C553264065             0.0             0.0        1               0  \n",
              "3    C38997010         21182.0             0.0        1               0  \n",
              "4  M1230701703             0.0             0.0        0               0  "
            ]
          },
          "execution_count": 2,
          "metadata": {},
          "output_type": "execute_result"
        }
      ],
      "source": [
        "# Loading the fraud dataset\n",
        "fraud_df = pd.read_csv(\"Synthetic_Financial_datasets_log.csv\")\n",
        "\n",
        "# Checking the first few rows\n",
        "fraud_df.head(5)"
      ]
    },
    {
      "cell_type": "code",
      "execution_count": 3,
      "metadata": {
        "colab": {
          "base_uri": "https://localhost:8080/"
        },
        "id": "iEUzXR6yF8Ae",
        "outputId": "540c461f-3c8b-4d77-ceb9-6fc349e2fb40"
      },
      "outputs": [
        {
          "name": "stdout",
          "output_type": "stream",
          "text": [
            "<class 'pandas.core.frame.DataFrame'>\n",
            "RangeIndex: 6362620 entries, 0 to 6362619\n",
            "Data columns (total 11 columns):\n",
            " #   Column          Dtype  \n",
            "---  ------          -----  \n",
            " 0   step            int64  \n",
            " 1   type            object \n",
            " 2   amount          float64\n",
            " 3   nameOrig        object \n",
            " 4   oldbalanceOrg   float64\n",
            " 5   newbalanceOrig  float64\n",
            " 6   nameDest        object \n",
            " 7   oldbalanceDest  float64\n",
            " 8   newbalanceDest  float64\n",
            " 9   isFraud         int64  \n",
            " 10  isFlaggedFraud  int64  \n",
            "dtypes: float64(5), int64(3), object(3)\n",
            "memory usage: 534.0+ MB\n",
            "None\n"
          ]
        }
      ],
      "source": [
        "# Displaying the dataset info\n",
        "print(fraud_df.info())\n"
      ]
    },
    {
      "cell_type": "code",
      "execution_count": 4,
      "metadata": {
        "colab": {
          "base_uri": "https://localhost:8080/"
        },
        "id": "cNMemRamGAP3",
        "outputId": "e803df9b-e53d-49da-8ff8-c7ba9a19439d"
      },
      "outputs": [
        {
          "name": "stdout",
          "output_type": "stream",
          "text": [
            "step              0\n",
            "type              0\n",
            "amount            0\n",
            "nameOrig          0\n",
            "oldbalanceOrg     0\n",
            "newbalanceOrig    0\n",
            "nameDest          0\n",
            "oldbalanceDest    1\n",
            "newbalanceDest    1\n",
            "isFraud           1\n",
            "isFlaggedFraud    1\n",
            "dtype: int64\n"
          ]
        }
      ],
      "source": [
        "# Checking for any missing values\n",
        "missing_fraud = fraud_df.isnull().sum()\n",
        "print(missing_fraud)"
      ]
    },
    {
      "cell_type": "code",
      "execution_count": 4,
      "metadata": {
        "colab": {
          "base_uri": "https://localhost:8080/"
        },
        "id": "0E2fMI6hGFZa",
        "outputId": "eaf3235e-e701-4f65-d24c-044f16dd62a1"
      },
      "outputs": [
        {
          "name": "stdout",
          "output_type": "stream",
          "text": [
            "Total Duplicated: 0\n"
          ]
        }
      ],
      "source": [
        "# Checking for duplicated data\n",
        "duplicated =fraud_df.duplicated().sum()\n",
        "print(f\"Total Duplicated: {duplicated}\")"
      ]
    },
    {
      "cell_type": "code",
      "execution_count": 6,
      "metadata": {
        "colab": {
          "base_uri": "https://localhost:8080/"
        },
        "id": "_XIyOgY-GPdP",
        "outputId": "fe3faee9-9829-4854-ea80-3eb8068a0709"
      },
      "outputs": [
        {
          "name": "stdout",
          "output_type": "stream",
          "text": [
            "step              0\n",
            "type              0\n",
            "amount            0\n",
            "nameOrig          0\n",
            "oldbalanceOrg     0\n",
            "newbalanceOrig    0\n",
            "nameDest          0\n",
            "oldbalanceDest    0\n",
            "newbalanceDest    0\n",
            "isFraud           0\n",
            "isFlaggedFraud    0\n",
            "dtype: int64\n"
          ]
        }
      ],
      "source": [
        "# dropping the missing values since they are very few\n",
        "clean_fraud_df = fraud_df.dropna()\n",
        "\n",
        "# confirming if the changes were implemented\n",
        "dropped_missing_fraud = clean_fraud_df.isnull().sum()\n",
        "print(dropped_missing_fraud)"
      ]
    },
    {
      "cell_type": "code",
      "execution_count": 7,
      "metadata": {
        "colab": {
          "base_uri": "https://localhost:8080/",
          "height": 485
        },
        "id": "V_ac1EIIGJ1H",
        "outputId": "79a38c6f-d72d-4f1b-985b-ef59895060f7"
      },
      "outputs": [
        {
          "data": {
            "image/png": "[encoded data removed]",
            "text/plain": [
              "<Figure size 1200x600 with 5 Axes>"
            ]
          },
          "metadata": {},
          "output_type": "display_data"
        }
      ],
      "source": [
        "# Detecting presence of outliers\n",
        "# Listing the numerical columns for a box plot\n",
        "num_cols = ['amount', 'oldbalanceOrg', 'newbalanceOrig', 'oldbalanceDest', 'newbalanceDest']\n",
        "\n",
        "# Boxplot for numerical features\n",
        "plt.figure(figsize=(12, 6))\n",
        "for i, col in enumerate(num_cols, 1):\n",
        "    plt.subplot(2, 3, i)\n",
        "    sns.boxplot(x=clean_fraud_df[col])\n",
        "    plt.title(f\"A Boxplot of {col}\")\n",
        "    plt.tight_layout()\n",
        "\n",
        "plt.show()"
      ]
    },
    {
      "cell_type": "markdown",
      "metadata": {
        "id": "g3YFvvQzGX49"
      },
      "source": [
        "There are presence of outliers which indecates this is a perfect dataset for fraud detection as we need to train the model to identify those extreme and unrealistic transactions. Therefore the outliers are kept for purpose of modelling using autoencoder and isolation."
      ]
    },
    {
      "cell_type": "code",
      "execution_count": 8,
      "metadata": {
        "colab": {
          "base_uri": "https://localhost:8080/",
          "height": 410
        },
        "id": "ruZBQEH2GYx8",
        "outputId": "e5f23367-4c55-4e9f-fb57-93315f75adac"
      },
      "outputs": [
        {
          "data": {
            "image/png": "[encoded data removed]",
            "text/plain": [
              "<Figure size 600x400 with 1 Axes>"
            ]
          },
          "metadata": {},
          "output_type": "display_data"
        }
      ],
      "source": [
        "# visualizing the fraud vs non-fraud transactions\n",
        "plt.figure(figsize=(6,4))\n",
        "sns.countplot(x=\"isFraud\", data=clean_fraud_df)\n",
        "plt.title(\"Fraud vs Non-Fraud Transactions\")\n",
        "plt.show()"
      ]
    },
    {
      "cell_type": "markdown",
      "metadata": {
        "id": "1TLCvQwqGhPB"
      },
      "source": [
        "There is imbalance between is fraud and is not fraud"
      ]
    },
    {
      "cell_type": "code",
      "execution_count": 9,
      "metadata": {
        "colab": {
          "base_uri": "https://localhost:8080/"
        },
        "id": "Gcpf51-PGdLq",
        "outputId": "a96e44a4-0bb4-46ea-bdfb-362bbe0c57a1"
      },
      "outputs": [
        {
          "name": "stdout",
          "output_type": "stream",
          "text": [
            "Fraud Percentage in the dataset: 0.09%\n"
          ]
        }
      ],
      "source": [
        "# Calculating fraud percentage\n",
        "fraud_percentage = (clean_fraud_df['isFraud'].sum() / len(clean_fraud_df)) * 100\n",
        "\n",
        "# Printing the percentage of fraud result\n",
        "print(f\"Fraud Percentage in the dataset: {fraud_percentage:.2f}%\")"
      ]
    },
    {
      "cell_type": "markdown",
      "metadata": {
        "id": "hyI3nexRGt5e"
      },
      "source": [
        "#Feature Selection"
      ]
    },
    {
      "cell_type": "code",
      "execution_count": 10,
      "metadata": {
        "id": "k4NxdQ29GnWY"
      },
      "outputs": [],
      "source": [
        "# Dropping unnecessary columns in the dataset\n",
        "fraud_data = clean_fraud_df.drop(['nameOrig', 'nameDest'], axis=1)\n",
        "\n",
        "# Converting transaction type to numerical\n",
        "fraud_data['type'] = fraud_data['type'].astype('category').cat.codes"
      ]
    },
    {
      "cell_type": "code",
      "execution_count": 11,
      "metadata": {
        "id": "BP8i1k3dGsAg"
      },
      "outputs": [],
      "source": [
        "# # Splitting features  and target\n",
        "# X = fraud_data.drop(columns=['isFraud'])\n",
        "# y = fraud_data['isFraud']\n",
        "\n",
        "# # Train a Random Forest model to check feature importance\n",
        "# rf_model = RandomForestClassifier(n_estimators=100, random_state=42)\n",
        "# rf_model.fit(X, y)\n",
        "\n",
        "# # Get feature importance\n",
        "# feature_importance = pd.DataFrame({'Feature': X.columns, 'Importance': rf_model.feature_importances_})\n",
        "# feature_importance = feature_importance.sort_values(by='Importance', ascending=False)"
      ]
    },
    {
      "cell_type": "code",
      "execution_count": 12,
      "metadata": {
        "colab": {
          "base_uri": "https://localhost:8080/"
        },
        "id": "OJ9Dzd0VG8T3",
        "outputId": "fddd741f-4c80-437d-b8c3-f9651a09a4bc"
      },
      "outputs": [
        {
          "name": "stdout",
          "output_type": "stream",
          "text": [
            "          Feature  Importance\n",
            "2          amount    0.261731\n",
            "3   oldbalanceOrg    0.230818\n",
            "6  newbalanceDest    0.200462\n",
            "5  oldbalanceDest    0.159863\n",
            "0            step    0.083552\n",
            "1            type    0.042793\n",
            "4  newbalanceOrig    0.020781\n",
            "7  isFlaggedFraud    0.000000\n"
          ]
        }
      ],
      "source": [
        "# print(feature_importance)"
      ]
    },
    {
      "cell_type": "code",
      "execution_count": 13,
      "metadata": {
        "colab": {
          "base_uri": "https://localhost:8080/",
          "height": 646
        },
        "id": "W_gkOPP3HZu5",
        "outputId": "1243d7ec-0562-4271-afb6-5c24c68abdf1"
      },
      "outputs": [
        {
          "data": {
            "image/png": "[encoded data removed]",
            "text/plain": [
              "<Figure size 1000x600 with 2 Axes>"
            ]
          },
          "metadata": {},
          "output_type": "display_data"
        }
      ],
      "source": [
        "# # Computing the correlation matrix to further understand the importance of each feature\n",
        "# corr_matrix = fraud_data.corr()\n",
        "\n",
        "# # Plotting a heatmap of th correlated features\n",
        "# plt.figure(figsize=(10, 6))\n",
        "# sns.heatmap(corr_matrix, annot=True, cmap=\"coolwarm\", fmt=\".2f\", linewidths=0.5)\n",
        "# plt.title(\"Feature Correlation Matrix\")\n",
        "# plt.show()"
      ]
    },
    {
      "cell_type": "markdown",
      "metadata": {
        "id": "OApZ00ugIddp"
      },
      "source": [
        "oldbalanceOrg vs newbalanceOrig as a high Correlation ≈ 1.00\n",
        "oldbalanceDest vs newbalanceDest as high Correlation ≈ 0.96\n",
        "isFlaggedFraud has almost no correlation with isFraud hence these features have less impact on modeling."
      ]
    },
    {
      "cell_type": "code",
      "execution_count": 14,
      "metadata": {
        "id": "_Uw-JZCPJ1-Y"
      },
      "outputs": [],
      "source": [
        "# # Dropping the redundant features\n",
        "# fraud_data_new = fraud_data.drop(columns=['newbalanceOrig', 'newbalanceDest', 'isFlaggedFraud'])\n"
      ]
    },
    {
      "cell_type": "code",
      "execution_count": 21,
      "metadata": {
        "colab": {
          "base_uri": "https://localhost:8080/",
          "height": 206
        },
        "id": "t4uXyJmUKj7k",
        "outputId": "b21b6135-0228-4c09-85f7-2a68e2c3d65c"
      },
      "outputs": [
        {
          "data": {
            "application/vnd.google.colaboratory.intrinsic+json": {
              "type": "dataframe",
              "variable_name": "fraud_data"
            },
            "text/html": [
              "\n",
              "  <div id=\"df-744cf080-55a2-4696-b7d0-d20863a87a80\" class=\"colab-df-container\">\n",
              "    <div>\n",
              "<style scoped>\n",
              "    .dataframe tbody tr th:only-of-type {\n",
              "        vertical-align: middle;\n",
              "    }\n",
              "\n",
              "    .dataframe tbody tr th {\n",
              "        vertical-align: top;\n",
              "    }\n",
              "\n",
              "    .dataframe thead th {\n",
              "        text-align: right;\n",
              "    }\n",
              "</style>\n",
              "<table border=\"1\" class=\"dataframe\">\n",
              "  <thead>\n",
              "    <tr style=\"text-align: right;\">\n",
              "      <th></th>\n",
              "      <th>step</th>\n",
              "      <th>type</th>\n",
              "      <th>amount</th>\n",
              "      <th>oldbalanceOrg</th>\n",
              "      <th>newbalanceOrig</th>\n",
              "      <th>oldbalanceDest</th>\n",
              "      <th>newbalanceDest</th>\n",
              "      <th>isFraud</th>\n",
              "      <th>isFlaggedFraud</th>\n",
              "    </tr>\n",
              "  </thead>\n",
              "  <tbody>\n",
              "    <tr>\n",
              "      <th>0</th>\n",
              "      <td>-4.348368</td>\n",
              "      <td>3</td>\n",
              "      <td>-0.493308</td>\n",
              "      <td>-0.256904</td>\n",
              "      <td>160296.36</td>\n",
              "      <td>-0.380055</td>\n",
              "      <td>0.0</td>\n",
              "      <td>0.0</td>\n",
              "      <td>0.0</td>\n",
              "    </tr>\n",
              "    <tr>\n",
              "      <th>1</th>\n",
              "      <td>-4.348368</td>\n",
              "      <td>3</td>\n",
              "      <td>-0.516645</td>\n",
              "      <td>-0.309613</td>\n",
              "      <td>19384.72</td>\n",
              "      <td>-0.380055</td>\n",
              "      <td>0.0</td>\n",
              "      <td>0.0</td>\n",
              "      <td>0.0</td>\n",
              "    </tr>\n",
              "    <tr>\n",
              "      <th>2</th>\n",
              "      <td>-4.348368</td>\n",
              "      <td>4</td>\n",
              "      <td>-0.521570</td>\n",
              "      <td>-0.317072</td>\n",
              "      <td>0.00</td>\n",
              "      <td>-0.380055</td>\n",
              "      <td>0.0</td>\n",
              "      <td>1.0</td>\n",
              "      <td>0.0</td>\n",
              "    </tr>\n",
              "    <tr>\n",
              "      <th>3</th>\n",
              "      <td>-4.348368</td>\n",
              "      <td>1</td>\n",
              "      <td>-0.521570</td>\n",
              "      <td>-0.317072</td>\n",
              "      <td>0.00</td>\n",
              "      <td>-0.371179</td>\n",
              "      <td>0.0</td>\n",
              "      <td>1.0</td>\n",
              "      <td>0.0</td>\n",
              "    </tr>\n",
              "    <tr>\n",
              "      <th>4</th>\n",
              "      <td>-4.348368</td>\n",
              "      <td>3</td>\n",
              "      <td>-0.487958</td>\n",
              "      <td>-0.302425</td>\n",
              "      <td>29885.86</td>\n",
              "      <td>-0.380055</td>\n",
              "      <td>0.0</td>\n",
              "      <td>0.0</td>\n",
              "      <td>0.0</td>\n",
              "    </tr>\n",
              "  </tbody>\n",
              "</table>\n",
              "</div>\n",
              "    <div class=\"colab-df-buttons\">\n",
              "\n",
              "  <div class=\"colab-df-container\">\n",
              "    <button class=\"colab-df-convert\" onclick=\"convertToInteractive('df-744cf080-55a2-4696-b7d0-d20863a87a80')\"\n",
              "            title=\"Convert this dataframe to an interactive table.\"\n",
              "            style=\"display:none;\">\n",
              "\n",
              "  <svg xmlns=\"http://www.w3.org/2000/svg\" height=\"24px\" viewBox=\"0 -960 960 960\">\n",
              "    <path d=\"M120-120v-720h720v720H120Zm60-500h600v-160H180v160Zm220 220h160v-160H400v160Zm0 220h160v-160H400v160ZM180-400h160v-160H180v160Zm440 0h160v-160H620v160ZM180-180h160v-160H180v160Zm440 0h160v-160H620v160Z\"/>\n",
              "  </svg>\n",
              "    </button>\n",
              "\n",
              "  <style>\n",
              "    .colab-df-container {\n",
              "      display:flex;\n",
              "      gap: 12px;\n",
              "    }\n",
              "\n",
              "    .colab-df-convert {\n",
              "      background-color: #E8F0FE;\n",
              "      border: none;\n",
              "      border-radius: 50%;\n",
              "      cursor: pointer;\n",
              "      display: none;\n",
              "      fill: #1967D2;\n",
              "      height: 32px;\n",
              "      padding: 0 0 0 0;\n",
              "      width: 32px;\n",
              "    }\n",
              "\n",
              "    .colab-df-convert:hover {\n",
              "      background-color: #E2EBFA;\n",
              "      box-shadow: 0px 1px 2px rgba(60, 64, 67, 0.3), 0px 1px 3px 1px rgba(60, 64, 67, 0.15);\n",
              "      fill: #174EA6;\n",
              "    }\n",
              "\n",
              "    .colab-df-buttons div {\n",
              "      margin-bottom: 4px;\n",
              "    }\n",
              "\n",
              "    [theme=dark] .colab-df-convert {\n",
              "      background-color: #3B4455;\n",
              "      fill: #D2E3FC;\n",
              "    }\n",
              "\n",
              "    [theme=dark] .colab-df-convert:hover {\n",
              "      background-color: #434B5C;\n",
              "      box-shadow: 0px 1px 3px 1px rgba(0, 0, 0, 0.15);\n",
              "      filter: drop-shadow(0px 1px 2px rgba(0, 0, 0, 0.3));\n",
              "      fill: #FFFFFF;\n",
              "    }\n",
              "  </style>\n",
              "\n",
              "    <script>\n",
              "      const buttonEl =\n",
              "        document.querySelector('#df-744cf080-55a2-4696-b7d0-d20863a87a80 button.colab-df-convert');\n",
              "      buttonEl.style.display =\n",
              "        google.colab.kernel.accessAllowed ? 'block' : 'none';\n",
              "\n",
              "      async function convertToInteractive(key) {\n",
              "        const element = document.querySelector('#df-744cf080-55a2-4696-b7d0-d20863a87a80');\n",
              "        const dataTable =\n",
              "          await google.colab.kernel.invokeFunction('convertToInteractive',\n",
              "                                                    [key], {});\n",
              "        if (!dataTable) return;\n",
              "\n",
              "        const docLinkHtml = 'Like what you see? Visit the ' +\n",
              "          '<a target=\"_blank\" href=https://colab.research.google.com/notebooks/data_table.ipynb>data table notebook</a>'\n",
              "          + ' to learn more about interactive tables.';\n",
              "        element.innerHTML = '';\n",
              "        dataTable['output_type'] = 'display_data';\n",
              "        await google.colab.output.renderOutput(dataTable, element);\n",
              "        const docLink = document.createElement('div');\n",
              "        docLink.innerHTML = docLinkHtml;\n",
              "        element.appendChild(docLink);\n",
              "      }\n",
              "    </script>\n",
              "  </div>\n",
              "\n",
              "\n",
              "<div id=\"df-2c2d02ff-cc5f-49b0-9e83-e013853ef723\">\n",
              "  <button class=\"colab-df-quickchart\" onclick=\"quickchart('df-2c2d02ff-cc5f-49b0-9e83-e013853ef723')\"\n",
              "            title=\"Suggest charts\"\n",
              "            style=\"display:none;\">\n",
              "\n",
              "<svg xmlns=\"http://www.w3.org/2000/svg\" height=\"24px\"viewBox=\"0 0 24 24\"\n",
              "     width=\"24px\">\n",
              "    <g>\n",
              "        <path d=\"M19 3H5c-1.1 0-2 .9-2 2v14c0 1.1.9 2 2 2h14c1.1 0 2-.9 2-2V5c0-1.1-.9-2-2-2zM9 17H7v-7h2v7zm4 0h-2V7h2v10zm4 0h-2v-4h2v4z\"/>\n",
              "    </g>\n",
              "</svg>\n",
              "  </button>\n",
              "\n",
              "<style>\n",
              "  .colab-df-quickchart {\n",
              "      --bg-color: #E8F0FE;\n",
              "      --fill-color: #1967D2;\n",
              "      --hover-bg-color: #E2EBFA;\n",
              "      --hover-fill-color: #174EA6;\n",
              "      --disabled-fill-color: #AAA;\n",
              "      --disabled-bg-color: #DDD;\n",
              "  }\n",
              "\n",
              "  [theme=dark] .colab-df-quickchart {\n",
              "      --bg-color: #3B4455;\n",
              "      --fill-color: #D2E3FC;\n",
              "      --hover-bg-color: #434B5C;\n",
              "      --hover-fill-color: #FFFFFF;\n",
              "      --disabled-bg-color: #3B4455;\n",
              "      --disabled-fill-color: #666;\n",
              "  }\n",
              "\n",
              "  .colab-df-quickchart {\n",
              "    background-color: var(--bg-color);\n",
              "    border: none;\n",
              "    border-radius: 50%;\n",
              "    cursor: pointer;\n",
              "    display: none;\n",
              "    fill: var(--fill-color);\n",
              "    height: 32px;\n",
              "    padding: 0;\n",
              "    width: 32px;\n",
              "  }\n",
              "\n",
              "  .colab-df-quickchart:hover {\n",
              "    background-color: var(--hover-bg-color);\n",
              "    box-shadow: 0 1px 2px rgba(60, 64, 67, 0.3), 0 1px 3px 1px rgba(60, 64, 67, 0.15);\n",
              "    fill: var(--button-hover-fill-color);\n",
              "  }\n",
              "\n",
              "  .colab-df-quickchart-complete:disabled,\n",
              "  .colab-df-quickchart-complete:disabled:hover {\n",
              "    background-color: var(--disabled-bg-color);\n",
              "    fill: var(--disabled-fill-color);\n",
              "    box-shadow: none;\n",
              "  }\n",
              "\n",
              "  .colab-df-spinner {\n",
              "    border: 2px solid var(--fill-color);\n",
              "    border-color: transparent;\n",
              "    border-bottom-color: var(--fill-color);\n",
              "    animation:\n",
              "      spin 1s steps(1) infinite;\n",
              "  }\n",
              "\n",
              "  @keyframes spin {\n",
              "    0% {\n",
              "      border-color: transparent;\n",
              "      border-bottom-color: var(--fill-color);\n",
              "      border-left-color: var(--fill-color);\n",
              "    }\n",
              "    20% {\n",
              "      border-color: transparent;\n",
              "      border-left-color: var(--fill-color);\n",
              "      border-top-color: var(--fill-color);\n",
              "    }\n",
              "    30% {\n",
              "      border-color: transparent;\n",
              "      border-left-color: var(--fill-color);\n",
              "      border-top-color: var(--fill-color);\n",
              "      border-right-color: var(--fill-color);\n",
              "    }\n",
              "    40% {\n",
              "      border-color: transparent;\n",
              "      border-right-color: var(--fill-color);\n",
              "      border-top-color: var(--fill-color);\n",
              "    }\n",
              "    60% {\n",
              "      border-color: transparent;\n",
              "      border-right-color: var(--fill-color);\n",
              "    }\n",
              "    80% {\n",
              "      border-color: transparent;\n",
              "      border-right-color: var(--fill-color);\n",
              "      border-bottom-color: var(--fill-color);\n",
              "    }\n",
              "    90% {\n",
              "      border-color: transparent;\n",
              "      border-bottom-color: var(--fill-color);\n",
              "    }\n",
              "  }\n",
              "</style>\n",
              "\n",
              "  <script>\n",
              "    async function quickchart(key) {\n",
              "      const quickchartButtonEl =\n",
              "        document.querySelector('#' + key + ' button');\n",
              "      quickchartButtonEl.disabled = true;  // To prevent multiple clicks.\n",
              "      quickchartButtonEl.classList.add('colab-df-spinner');\n",
              "      try {\n",
              "        const charts = await google.colab.kernel.invokeFunction(\n",
              "            'suggestCharts', [key], {});\n",
              "      } catch (error) {\n",
              "        console.error('Error during call to suggestCharts:', error);\n",
              "      }\n",
              "      quickchartButtonEl.classList.remove('colab-df-spinner');\n",
              "      quickchartButtonEl.classList.add('colab-df-quickchart-complete');\n",
              "    }\n",
              "    (() => {\n",
              "      let quickchartButtonEl =\n",
              "        document.querySelector('#df-2c2d02ff-cc5f-49b0-9e83-e013853ef723 button');\n",
              "      quickchartButtonEl.style.display =\n",
              "        google.colab.kernel.accessAllowed ? 'block' : 'none';\n",
              "    })();\n",
              "  </script>\n",
              "</div>\n",
              "\n",
              "    </div>\n",
              "  </div>\n"
            ],
            "text/plain": [
              "       step  type    amount  oldbalanceOrg  newbalanceOrig  oldbalanceDest  \\\n",
              "0 -4.348368     3 -0.493308      -0.256904       160296.36       -0.380055   \n",
              "1 -4.348368     3 -0.516645      -0.309613        19384.72       -0.380055   \n",
              "2 -4.348368     4 -0.521570      -0.317072            0.00       -0.380055   \n",
              "3 -4.348368     1 -0.521570      -0.317072            0.00       -0.371179   \n",
              "4 -4.348368     3 -0.487958      -0.302425        29885.86       -0.380055   \n",
              "\n",
              "   newbalanceDest  isFraud  isFlaggedFraud  \n",
              "0             0.0      0.0             0.0  \n",
              "1             0.0      0.0             0.0  \n",
              "2             0.0      1.0             0.0  \n",
              "3             0.0      1.0             0.0  \n",
              "4             0.0      0.0             0.0  "
            ]
          },
          "execution_count": 21,
          "metadata": {},
          "output_type": "execute_result"
        }
      ],
      "source": [
        "# Scalling numerical features\n",
        "scaler = StandardScaler()\n",
        "num_features = ['amount', 'oldbalanceOrg', 'oldbalanceDest', 'step']\n",
        "fraud_data[num_features] = scaler.fit_transform(fraud_data[num_features])\n",
        "\n",
        "# Display processed dataset\n",
        "fraud_data.head()"
      ]
    },
    {
      "cell_type": "markdown",
      "metadata": {
        "id": "gCKVyKSUNf7k"
      },
      "source": [
        "#Splitting data into train and test"
      ]
    },
    {
      "cell_type": "code",
      "execution_count": 22,
      "metadata": {
        "colab": {
          "base_uri": "https://localhost:8080/"
        },
        "id": "jl3mgOQsMZHl",
        "outputId": "10d1241d-c0e9-4b62-cc96-eb2a2ce2071c"
      },
      "outputs": [
        {
          "name": "stdout",
          "output_type": "stream",
          "text": [
            "isFraud\n",
            "0.0    0.999113\n",
            "1.0    0.000887\n",
            "Name: proportion, dtype: float64\n",
            "isFraud\n",
            "0.0    0.999131\n",
            "1.0    0.000869\n",
            "Name: proportion, dtype: float64\n"
          ]
        }
      ],
      "source": [
        "# Define features (X) and target variable (y)\n",
        "X = fraud_data.drop(columns=['isFraud'])\n",
        "y = fraud_data['isFraud']\n",
        "\n",
        "# Perform stratified train-test split\n",
        "X_train, X_test, y_train, y_test = train_test_split(\n",
        "    X, y, test_size=0.2, stratify=y, random_state=42\n",
        ")\n",
        "\n",
        "# Check class distribution in train and test sets\n",
        "print(y_train.value_counts(normalize=True))\n",
        "print(y_test.value_counts(normalize=True))"
      ]
    },
    {
      "cell_type": "markdown",
      "metadata": {
        "id": "uLN3TK9XNL1C"
      },
      "source": [
        "#Handling Imbalance"
      ]
    },
    {
      "cell_type": "code",
      "execution_count": 23,
      "metadata": {
        "colab": {
          "base_uri": "https://localhost:8080/"
        },
        "id": "pkt2QTC4NE9h",
        "outputId": "3468ecd5-98f7-41c3-da93-36a66bfba3f1"
      },
      "outputs": [
        {
          "name": "stdout",
          "output_type": "stream",
          "text": [
            "isFraud\n",
            "0.0    0.833338\n",
            "1.0    0.166662\n",
            "Name: proportion, dtype: float64\n"
          ]
        }
      ],
      "source": [
        "# Using SMOTE SMOTE to balance the dataset\n",
        "smote = SMOTE(sampling_strategy=0.2, random_state=42)\n",
        "X_train_sm, y_train_sm = smote.fit_resample(X_train, y_train)\n",
        "\n",
        "# Checking the new class distribution after handling the imbalance\n",
        "print(y_train_sm.value_counts(normalize=True))"
      ]
    },
    {
      "cell_type": "markdown",
      "metadata": {
        "id": "YCheuq3rOQdM"
      },
      "source": [
        "#Model Training and Evaluation"
      ]
    },
    {
      "cell_type": "markdown",
      "metadata": {
        "id": "27J0BwkfOUjI"
      },
      "source": [
        "# 1. XGBoost, Random Forest, LightGBM and Logistic Regression"
      ]
    },
    {
      "cell_type": "code",
      "execution_count": 24,
      "metadata": {
        "colab": {
          "base_uri": "https://localhost:8080/"
        },
        "id": "FQ5nAieDSDsl",
        "outputId": "4ac35fd7-642c-43b0-de63-0b854afc09f7"
      },
      "outputs": [
        {
          "name": "stderr",
          "output_type": "stream",
          "text": [
            "/usr/local/lib/python3.11/dist-packages/xgboost/core.py:158: UserWarning: [07:12:24] WARNING: /workspace/src/learner.cc:740: \n",
            "Parameters: { \"use_label_encoder\" } are not used.\n",
            "\n",
            "  warnings.warn(smsg, UserWarning)\n"
          ]
        },
        {
          "name": "stdout",
          "output_type": "stream",
          "text": [
            "\n",
            "Model: XGBoost\n",
            "              precision    recall  f1-score   support\n",
            "\n",
            "         0.0       1.00      1.00      1.00     27599\n",
            "         1.0       0.42      0.67      0.52        24\n",
            "\n",
            "    accuracy                           1.00     27623\n",
            "   macro avg       0.71      0.83      0.76     27623\n",
            "weighted avg       1.00      1.00      1.00     27623\n",
            "\n",
            "ROC-AUC Score: 0.8329347681679287\n",
            "\n",
            "Model: Random Forest\n",
            "              precision    recall  f1-score   support\n",
            "\n",
            "         0.0       1.00      1.00      1.00     27599\n",
            "         1.0       0.68      0.62      0.65        24\n",
            "\n",
            "    accuracy                           1.00     27623\n",
            "   macro avg       0.84      0.81      0.83     27623\n",
            "weighted avg       1.00      1.00      1.00     27623\n",
            "\n",
            "ROC-AUC Score: 0.8123731838110076\n",
            "[LightGBM] [Info] Number of positive: 22078, number of negative: 110394\n",
            "[LightGBM] [Info] Auto-choosing row-wise multi-threading, the overhead of testing was 0.003539 seconds.\n",
            "You can set `force_row_wise=true` to remove the overhead.\n",
            "And if memory is not enough, you can set `force_col_wise=true`.\n",
            "[LightGBM] [Info] Total Bins 1535\n",
            "[LightGBM] [Info] Number of data points in the train set: 132472, number of used features: 7\n",
            "[LightGBM] [Info] [binary:BoostFromScore]: pavg=0.166662 -> initscore=-1.609474\n",
            "[LightGBM] [Info] Start training from score -1.609474\n",
            "\n",
            "Model: LightGBM\n",
            "              precision    recall  f1-score   support\n",
            "\n",
            "         0.0       1.00      1.00      1.00     27599\n",
            "         1.0       0.37      0.71      0.49        24\n",
            "\n",
            "    accuracy                           1.00     27623\n",
            "   macro avg       0.68      0.85      0.74     27623\n",
            "weighted avg       1.00      1.00      1.00     27623\n",
            "\n",
            "ROC-AUC Score: 0.8536412853122698\n",
            "\n",
            "Model: Logistic Regression\n",
            "              precision    recall  f1-score   support\n",
            "\n",
            "         0.0       1.00      0.83      0.91     27599\n",
            "         1.0       0.00      0.75      0.01        24\n",
            "\n",
            "    accuracy                           0.83     27623\n",
            "   macro avg       0.50      0.79      0.46     27623\n",
            "weighted avg       1.00      0.83      0.91     27623\n",
            "\n",
            "ROC-AUC Score: 0.7908484003043589\n"
          ]
        }
      ],
      "source": [
        "# Initializing the models\n",
        "models = {\n",
        "    \"XGBoost\": XGBClassifier(scale_pos_weight=10, use_label_encoder=False, eval_metric='logloss'),\n",
        "    \"Random Forest\": RandomForestClassifier(class_weight='balanced', n_estimators=100),\n",
        "    \"LightGBM\": LGBMClassifier(is_unbalance=True),\n",
        "    \"Logistic Regression\": LogisticRegression(class_weight='balanced', max_iter=1000)\n",
        "}\n",
        "\n",
        "# Training and evaluating the models\n",
        "for name, model in models.items():\n",
        "    model.fit(X_train_sm, y_train_sm)\n",
        "    y_pred = model.predict(X_test)\n",
        "\n",
        "    print(f\"\\nModel: {name}\")\n",
        "    print(classification_report(y_test, y_pred))\n",
        "    print(\"ROC-AUC Score:\", roc_auc_score(y_test, y_pred))"
      ]
    },
    {
      "cell_type": "markdown",
      "metadata": {
        "id": "tE9ipTESSzOb"
      },
      "source": [
        "2. Isolation Forest"
      ]
    },
    {
      "cell_type": "code",
      "execution_count": 27,
      "metadata": {
        "colab": {
          "base_uri": "https://localhost:8080/"
        },
        "id": "ekPoywElS3r7",
        "outputId": "01a5a12b-1bfd-499e-b9c7-008a194d7ee2"
      },
      "outputs": [
        {
          "name": "stdout",
          "output_type": "stream",
          "text": [
            "Isolation Forest Results:\n",
            "              precision    recall  f1-score   support\n",
            "\n",
            "         0.0       1.00      0.99      0.99     27599\n",
            "         1.0       0.00      0.04      0.01        24\n",
            "\n",
            "    accuracy                           0.99     27623\n",
            "   macro avg       0.50      0.52      0.50     27623\n",
            "weighted avg       1.00      0.99      0.99     27623\n",
            "\n",
            "ROC-AUC Score: 0.5159962015531965\n"
          ]
        }
      ],
      "source": [
        "iso_forest = IsolationForest(contamination=0.01, random_state=42)\n",
        "iso_forest.fit(X_train)\n",
        "\n",
        "y_pred_iso = iso_forest.predict(X_test)\n",
        "y_pred_iso = [1 if i == -1 else 0 for i in y_pred_iso]  # Convert anomalies to fraud\n",
        "\n",
        "print(\"Isolation Forest Results:\")\n",
        "print(classification_report(y_test, y_pred_iso))\n",
        "print(\"ROC-AUC Score:\", roc_auc_score(y_test, y_pred_iso))"
      ]
    },
    {
      "cell_type": "markdown",
      "metadata": {
        "id": "Qq-dcOojTE8B"
      },
      "source": [
        "3. Autoencoder"
      ]
    },
    {
      "cell_type": "code",
      "execution_count": 28,
      "metadata": {
        "colab": {
          "base_uri": "https://localhost:8080/"
        },
        "id": "S1RDGOIMS7fd",
        "outputId": "698e8cd0-4530-4445-ea70-a9b4498de6fd"
      },
      "outputs": [
        {
          "name": "stdout",
          "output_type": "stream",
          "text": [
            "Epoch 1/10\n"
          ]
        },
        {
          "name": "stderr",
          "output_type": "stream",
          "text": [
            "/usr/local/lib/python3.11/dist-packages/keras/src/layers/core/dense.py:87: UserWarning: Do not pass an `input_shape`/`input_dim` argument to a layer. When using Sequential models, prefer using an `Input(shape)` object as the first layer in the model instead.\n",
            "  super().__init__(activity_regularizer=activity_regularizer, **kwargs)\n"
          ]
        },
        {
          "name": "stdout",
          "output_type": "stream",
          "text": [
            "\u001b[1m3453/3453\u001b[0m \u001b[32m━━━━━━━━━━━━━━━━━━━━\u001b[0m\u001b[37m\u001b[0m \u001b[1m12s\u001b[0m 3ms/step - loss: 2217593012224.0000 - val_loss: 2233982779392.0000\n",
            "Epoch 2/10\n",
            "\u001b[1m3453/3453\u001b[0m \u001b[32m━━━━━━━━━━━━━━━━━━━━\u001b[0m\u001b[37m\u001b[0m \u001b[1m9s\u001b[0m 3ms/step - loss: 2222652391424.0000 - val_loss: 2233982779392.0000\n",
            "Epoch 3/10\n",
            "\u001b[1m3453/3453\u001b[0m \u001b[32m━━━━━━━━━━━━━━━━━━━━\u001b[0m\u001b[37m\u001b[0m \u001b[1m12s\u001b[0m 3ms/step - loss: 2231142973440.0000 - val_loss: 2233982779392.0000\n",
            "Epoch 4/10\n",
            "\u001b[1m3453/3453\u001b[0m \u001b[32m━━━━━━━━━━━━━━━━━━━━\u001b[0m\u001b[37m\u001b[0m \u001b[1m19s\u001b[0m 3ms/step - loss: 2249920348160.0000 - val_loss: 2233982779392.0000\n",
            "Epoch 5/10\n",
            "\u001b[1m3453/3453\u001b[0m \u001b[32m━━━━━━━━━━━━━━━━━━━━\u001b[0m\u001b[37m\u001b[0m \u001b[1m10s\u001b[0m 3ms/step - loss: 2196660420608.0000 - val_loss: 2233982779392.0000\n",
            "Epoch 6/10\n",
            "\u001b[1m3453/3453\u001b[0m \u001b[32m━━━━━━━━━━━━━━━━━━━━\u001b[0m\u001b[37m\u001b[0m \u001b[1m10s\u001b[0m 3ms/step - loss: 2256600301568.0000 - val_loss: 2233982779392.0000\n",
            "Epoch 7/10\n",
            "\u001b[1m3453/3453\u001b[0m \u001b[32m━━━━━━━━━━━━━━━━━━━━\u001b[0m\u001b[37m\u001b[0m \u001b[1m9s\u001b[0m 3ms/step - loss: 2252000460800.0000 - val_loss: 2233982779392.0000\n",
            "Epoch 8/10\n",
            "\u001b[1m3453/3453\u001b[0m \u001b[32m━━━━━━━━━━━━━━━━━━━━\u001b[0m\u001b[37m\u001b[0m \u001b[1m10s\u001b[0m 3ms/step - loss: 2198679584768.0000 - val_loss: 2233982779392.0000\n",
            "Epoch 9/10\n",
            "\u001b[1m3453/3453\u001b[0m \u001b[32m━━━━━━━━━━━━━━━━━━━━\u001b[0m\u001b[37m\u001b[0m \u001b[1m9s\u001b[0m 3ms/step - loss: 2261579464704.0000 - val_loss: 2233982779392.0000\n",
            "Epoch 10/10\n",
            "\u001b[1m3453/3453\u001b[0m \u001b[32m━━━━━━━━━━━━━━━━━━━━\u001b[0m\u001b[37m\u001b[0m \u001b[1m11s\u001b[0m 3ms/step - loss: 2255847686144.0000 - val_loss: 2233982779392.0000\n",
            "\u001b[1m864/864\u001b[0m \u001b[32m━━━━━━━━━━━━━━━━━━━━\u001b[0m\u001b[37m\u001b[0m \u001b[1m2s\u001b[0m 2ms/step\n",
            "Autoencoder Results:\n",
            "              precision    recall  f1-score   support\n",
            "\n",
            "         0.0       1.00      0.95      0.97     27599\n",
            "         1.0       0.00      0.00      0.00        24\n",
            "\n",
            "    accuracy                           0.95     27623\n",
            "   macro avg       0.50      0.47      0.49     27623\n",
            "weighted avg       1.00      0.95      0.97     27623\n",
            "\n",
            "ROC-AUC Score: 0.47496286097322366\n"
          ]
        }
      ],
      "source": [
        "# Autoencoder model\n",
        "autoencoder = Sequential([\n",
        "    Dense(16, activation='relu', input_shape=(X_train.shape[1],)),\n",
        "    Dense(8, activation='relu'),\n",
        "    Dense(16, activation='relu'),\n",
        "    Dense(X_train.shape[1], activation='sigmoid')\n",
        "])\n",
        "\n",
        "autoencoder.compile(optimizer='adam', loss='mse')\n",
        "autoencoder.fit(X_train, X_train, epochs=10, batch_size=32, validation_data=(X_test, X_test))\n",
        "\n",
        "# Fraud detection based on reconstruction error\n",
        "reconstruction_error = ((X_test - autoencoder.predict(X_test)) ** 2).mean(axis=1)\n",
        "threshold = np.percentile(reconstruction_error, 95)  # Set threshold for fraud\n",
        "\n",
        "y_pred_auto = [1 if e > threshold else 0 for e in reconstruction_error]\n",
        "\n",
        "print(\"Autoencoder Results:\")\n",
        "print(classification_report(y_test, y_pred_auto))\n",
        "print(\"ROC-AUC Score:\", roc_auc_score(y_test, y_pred_auto))"
      ]
    },
    {
      "cell_type": "code",
      "execution_count": 31,
      "metadata": {
        "colab": {
          "base_uri": "https://localhost:8080/"
        },
        "id": "LDwqlhbxXaw-",
        "outputId": "dbcc37e0-3397-4247-db64-23a99d6d092f"
      },
      "outputs": [
        {
          "name": "stdout",
          "output_type": "stream",
          "text": [
            "                     Precision  Recall  F1-Score  ROC-AUC  Overall Score\n",
            "XGBoost                   1.00    0.67      0.52     0.83          0.723\n",
            "Random Forest             0.68    0.62      0.65     0.81          0.679\n",
            "LightGBM                  0.37    0.71      0.49     0.85          0.604\n",
            "Logistic Regression       0.00    0.75      0.01     0.79          0.386\n",
            "Isolation Forest          0.00    0.04      0.01     0.52          0.119\n",
            "Autoencoder               0.00    0.00      0.00     0.47          0.094\n",
            "\n",
            "✅ The best-performing model is **XGBoost** with an Overall Score of 0.723\n"
          ]
        }
      ],
      "source": [
        "# Model performance data (from your results)\n",
        "model_results = {\n",
        "    \"XGBoost\": [1.00, 0.67, 0.52, 0.83],\n",
        "    \"Random Forest\": [0.68, 0.62, 0.65, 0.81],\n",
        "    \"LightGBM\": [0.37, 0.71, 0.49, 0.85],\n",
        "    \"Logistic Regression\": [0.00, 0.75, 0.01, 0.79],\n",
        "    \"Isolation Forest\": [0.00, 0.04, 0.01, 0.52],\n",
        "    \"Autoencoder\": [0.00, 0.00, 0.00, 0.47]\n",
        "}\n",
        "\n",
        "# Convert to DataFrame\n",
        "df_performance = pd.DataFrame(\n",
        "    model_results, index=[\"Precision\", \"Recall\", \"F1-Score\", \"ROC-AUC\"]\n",
        ").T\n",
        "\n",
        "# Calculate an overall score (Weighted Average of metrics)\n",
        "weights = {\"Precision\": 0.2, \"Recall\": 0.3, \"F1-Score\": 0.3, \"ROC-AUC\": 0.2}\n",
        "df_performance[\"Overall Score\"] = df_performance.dot(pd.Series(weights))\n",
        "\n",
        "# Identify the best model\n",
        "best_model = df_performance[\"Overall Score\"].idxmax()\n",
        "best_score = df_performance[\"Overall Score\"].max()\n",
        "\n",
        "# Display ranked models\n",
        "df_performance = df_performance.sort_values(by=\"Overall Score\", ascending=False)\n",
        "print(df_performance)\n",
        "\n",
        "# Print the best model\n",
        "print(f\"\\nThe best-performing model is **{best_model}** with an Overall Score of {best_score:.3f}\")\n"
      ]
    },
    {
      "cell_type": "code",
      "execution_count": 33,
      "metadata": {
        "colab": {
          "base_uri": "https://localhost:8080/"
        },
        "id": "_pGrJM75YQ89",
        "outputId": "af213567-b6cd-4d09-f3b3-5f00b39af056"
      },
      "outputs": [
        {
          "name": "stdout",
          "output_type": "stream",
          "text": [
            "Fitting 5 folds for each of 20 candidates, totalling 100 fits\n"
          ]
        },
        {
          "name": "stderr",
          "output_type": "stream",
          "text": [
            "/usr/local/lib/python3.11/dist-packages/xgboost/core.py:158: UserWarning: [07:38:42] WARNING: /workspace/src/learner.cc:740: \n",
            "Parameters: { \"use_label_encoder\" } are not used.\n",
            "\n",
            "  warnings.warn(smsg, UserWarning)\n"
          ]
        },
        {
          "name": "stdout",
          "output_type": "stream",
          "text": [
            "Best Parameters: {'subsample': 0.6, 'reg_lambda': 0.5, 'reg_alpha': 1, 'n_estimators': 200, 'max_depth': 5, 'learning_rate': 0.1, 'gamma': 0.1, 'colsample_bytree': 1.0}\n",
            "Best XGBoost Model AUC Score: 0.9809\n"
          ]
        }
      ],
      "source": [
        "# Define parameter grid\n",
        "param_grid = {\n",
        "    \"n_estimators\": [100, 200, 300, 500],\n",
        "    \"max_depth\": [3, 5, 7, 10],\n",
        "    \"learning_rate\": [0.01, 0.05, 0.1, 0.2],\n",
        "    \"subsample\": [0.6, 0.8, 1.0],\n",
        "    \"colsample_bytree\": [0.6, 0.8, 1.0],\n",
        "    \"gamma\": [0, 0.1, 0.3, 0.5],\n",
        "    \"reg_alpha\": [0, 0.1, 0.5, 1],\n",
        "    \"reg_lambda\": [0, 0.1, 0.5, 1]\n",
        "}\n",
        "\n",
        "# Initialize XGBoost classifier\n",
        "xgb = XGBClassifier(objective=\"binary:logistic\", scale_pos_weight=1, use_label_encoder=False, eval_metric=\"logloss\")\n",
        "\n",
        "# Perform Randomized Search CV\n",
        "random_search = RandomizedSearchCV(\n",
        "    estimator=xgb,\n",
        "    param_distributions=param_grid,\n",
        "    n_iter=20,  # Number of random combinations to try\n",
        "    scoring=\"roc_auc\",  # Optimize for AUC score\n",
        "    cv=5,  # 5-fold cross-validation\n",
        "    verbose=2,\n",
        "    n_jobs=-1  # Use all available cores\n",
        ")\n",
        "\n",
        "# Fit to the dataset\n",
        "random_search.fit(X_train, y_train)\n",
        "\n",
        "# Display best parameters\n",
        "print(\"Best Parameters:\", random_search.best_params_)\n",
        "\n",
        "# Get best model\n",
        "best_xgb = random_search.best_estimator_\n",
        "\n",
        "# Evaluate on test set\n",
        "y_pred = best_xgb.predict(X_test)\n",
        "y_prob = best_xgb.predict_proba(X_test)[:, 1]\n",
        "\n",
        "# Compute AUC Score\n",
        "from sklearn.metrics import roc_auc_score\n",
        "auc_score = roc_auc_score(y_test, y_prob)\n",
        "print(f\"Best XGBoost Model AUC Score: {auc_score:.4f}\")"
      ]
    },
    {
      "cell_type": "code",
      "execution_count": 36,
      "metadata": {
        "colab": {
          "base_uri": "https://localhost:8080/"
        },
        "id": "ThRzZ7OLar6f",
        "outputId": "7f7e4f1f-46fc-46ff-a35c-b8753a9243b3"
      },
      "outputs": [
        {
          "name": "stdout",
          "output_type": "stream",
          "text": [
            "Mean AUC Score: 0.9958\n",
            "Standard Deviation: 0.0050\n"
          ]
        }
      ],
      "source": [
        "# Define the best model with optimized parameters\n",
        "best_xgb = xgb.XGBClassifier(\n",
        "    subsample=0.6,\n",
        "    reg_lambda=0.5,\n",
        "    reg_alpha=1,\n",
        "    n_estimators=200,\n",
        "    max_depth=5,\n",
        "    learning_rate=0.1,\n",
        "    gamma=0.1,\n",
        "    colsample_bytree=1.0,\n",
        "    random_state=42\n",
        ")\n",
        "\n",
        "# Define Stratified K-Fold Cross-Validation (5 folds)\n",
        "cv = StratifiedKFold(n_splits=5, shuffle=True, random_state=42)\n",
        "\n",
        "# Perform cross-validation and compute AUC scores\n",
        "cv_auc_scores = cross_val_score(best_xgb, X_train, y_train, cv=cv, scoring=\"roc_auc\")\n",
        "\n",
        "# Print mean and standard deviation of AUC scores\n",
        "print(f\"Mean AUC Score: {np.mean(cv_auc_scores):.4f}\")\n",
        "print(f\"Standard Deviation: {np.std(cv_auc_scores):.4f}\")\n"
      ]
    },
    {
      "cell_type": "markdown",
      "metadata": {
        "id": "GK9qXgOVcCtG"
      },
      "source": [
        "The cross-validation results confirm the model's stability, with a high mean AUC score of 0.9958 and minimal variance (0.0050), making it reliable for deployment."
      ]
    },
    {
      "cell_type": "code",
      "execution_count": 39,
      "metadata": {
        "colab": {
          "base_uri": "https://localhost:8080/"
        },
        "id": "HTykVh8Hcb7w",
        "outputId": "a4a37f00-71c4-4ea7-b2cb-31fbb0862fb5"
      },
      "outputs": [
        {
          "name": "stdout",
          "output_type": "stream",
          "text": [
            "Model saved successfully.\n"
          ]
        }
      ],
      "source": [
        "import joblib\n",
        "\n",
        "# Save the model\n",
        "joblib.dump(best_xgb, 'Transaction_fraud_detection.pkl')\n",
        "\n",
        "print(\"Model saved successfully.\")\n"
      ]
    },
    {
      "cell_type": "code",
      "execution_count": null,
      "metadata": {
        "id": "nNNIZR_fcwmT"
      },
      "outputs": [],
      "source": []
    }
  ],
  "metadata": {
    "accelerator": "GPU",
    "colab": {
      "gpuType": "T4",
      "provenance": []
    },
    "kernelspec": {
      "display_name": "myenv",
      "language": "python",
      "name": "python3"
    },
    "language_info": {
      "codemirror_mode": {
        "name": "ipython",
        "version": 3
      },
      "file_extension": ".py",
      "mimetype": "text/x-python",
      "name": "python",
      "nbconvert_exporter": "python",
      "pygments_lexer": "ipython3",
      "version": "3.9.21"
    }
  },
  "nbformat": 4,
  "nbformat_minor": 0
}
